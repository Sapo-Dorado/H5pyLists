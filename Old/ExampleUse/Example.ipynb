{
 "cells": [
  {
   "cell_type": "code",
   "execution_count": 1,
   "metadata": {},
   "outputs": [],
   "source": [
    "from fastai.vision import *\n",
    "from H5pyList import H5pyList"
   ]
  },
  {
   "cell_type": "markdown",
   "metadata": {},
   "source": [
    "The example files are stored in the folder called h5py which contains 10 files named test0 through test9 and each file contains 10 h5py datasets named dset0 through dset 9"
   ]
  },
  {
   "cell_type": "code",
   "execution_count": 10,
   "metadata": {},
   "outputs": [
    {
     "data": {
      "text/plain": [
       "H5pyList (10 items)\n",
       "Image (3, 3, 3),Image (3, 3, 3),Image (3, 3, 3),Image (3, 3, 3),Image (3, 3, 3)\n",
       "Path: h5py"
      ]
     },
     "execution_count": 10,
     "metadata": {},
     "output_type": "execute_result"
    }
   ],
   "source": [
    "file_il = H5pyList.from_file('./h5py/test0.h5py')\n",
    "file_il"
   ]
  },
  {
   "cell_type": "code",
   "execution_count": 12,
   "metadata": {
    "scrolled": true
   },
   "outputs": [
    {
     "data": {
      "text/plain": [
       "H5pyList (100 items)\n",
       "Image (3, 3, 3),Image (3, 3, 3),Image (3, 3, 3),Image (3, 3, 3),Image (3, 3, 3)\n",
       "Path: h5py"
      ]
     },
     "execution_count": 12,
     "metadata": {},
     "output_type": "execute_result"
    }
   ],
   "source": [
    "folder_il = H5pyList.from_folder('h5py')\n",
    "folder_il"
   ]
  },
  {
   "cell_type": "code",
   "execution_count": 15,
   "metadata": {},
   "outputs": [
    {
     "data": {
      "text/html": [
       "<div>\n",
       "<style scoped>\n",
       "    .dataframe tbody tr th:only-of-type {\n",
       "        vertical-align: middle;\n",
       "    }\n",
       "\n",
       "    .dataframe tbody tr th {\n",
       "        vertical-align: top;\n",
       "    }\n",
       "\n",
       "    .dataframe thead th {\n",
       "        text-align: right;\n",
       "    }\n",
       "</style>\n",
       "<table border=\"1\" class=\"dataframe\">\n",
       "  <thead>\n",
       "    <tr style=\"text-align: right;\">\n",
       "      <th></th>\n",
       "      <th>Fn</th>\n",
       "    </tr>\n",
       "  </thead>\n",
       "  <tbody>\n",
       "    <tr>\n",
       "      <th>0</th>\n",
       "      <td>test0</td>\n",
       "    </tr>\n",
       "    <tr>\n",
       "      <th>1</th>\n",
       "      <td>test1</td>\n",
       "    </tr>\n",
       "    <tr>\n",
       "      <th>2</th>\n",
       "      <td>test2</td>\n",
       "    </tr>\n",
       "    <tr>\n",
       "      <th>3</th>\n",
       "      <td>test3</td>\n",
       "    </tr>\n",
       "    <tr>\n",
       "      <th>4</th>\n",
       "      <td>test4</td>\n",
       "    </tr>\n",
       "    <tr>\n",
       "      <th>5</th>\n",
       "      <td>test5</td>\n",
       "    </tr>\n",
       "    <tr>\n",
       "      <th>6</th>\n",
       "      <td>test6</td>\n",
       "    </tr>\n",
       "    <tr>\n",
       "      <th>7</th>\n",
       "      <td>test7</td>\n",
       "    </tr>\n",
       "    <tr>\n",
       "      <th>8</th>\n",
       "      <td>test8</td>\n",
       "    </tr>\n",
       "    <tr>\n",
       "      <th>9</th>\n",
       "      <td>test9</td>\n",
       "    </tr>\n",
       "  </tbody>\n",
       "</table>\n",
       "</div>"
      ],
      "text/plain": [
       "      Fn\n",
       "0  test0\n",
       "1  test1\n",
       "2  test2\n",
       "3  test3\n",
       "4  test4\n",
       "5  test5\n",
       "6  test6\n",
       "7  test7\n",
       "8  test8\n",
       "9  test9"
      ]
     },
     "execution_count": 15,
     "metadata": {},
     "output_type": "execute_result"
    }
   ],
   "source": [
    "simple_df = pd.DataFrame({'Fn':['test' + str(i) for i in range(10)]})\n",
    "simple_df"
   ]
  },
  {
   "cell_type": "code",
   "execution_count": 19,
   "metadata": {},
   "outputs": [
    {
     "data": {
      "text/plain": [
       "H5pyList (100 items)\n",
       "Image (3, 3, 3),Image (3, 3, 3),Image (3, 3, 3),Image (3, 3, 3),Image (3, 3, 3)\n",
       "Path: ."
      ]
     },
     "execution_count": 19,
     "metadata": {},
     "output_type": "execute_result"
    }
   ],
   "source": [
    "simple_df_il = H5pyList.from_df(simple_df, path='.', cols=0, folder='h5py', suffix='.h5py')\n",
    "simple_df_il"
   ]
  },
  {
   "cell_type": "code",
   "execution_count": 24,
   "metadata": {},
   "outputs": [
    {
     "data": {
      "text/html": [
       "<div>\n",
       "<style scoped>\n",
       "    .dataframe tbody tr th:only-of-type {\n",
       "        vertical-align: middle;\n",
       "    }\n",
       "\n",
       "    .dataframe tbody tr th {\n",
       "        vertical-align: top;\n",
       "    }\n",
       "\n",
       "    .dataframe thead th {\n",
       "        text-align: right;\n",
       "    }\n",
       "</style>\n",
       "<table border=\"1\" class=\"dataframe\">\n",
       "  <thead>\n",
       "    <tr style=\"text-align: right;\">\n",
       "      <th></th>\n",
       "      <th>Fn</th>\n",
       "      <th>Ds</th>\n",
       "      <th>Label</th>\n",
       "    </tr>\n",
       "  </thead>\n",
       "  <tbody>\n",
       "    <tr>\n",
       "      <th>0</th>\n",
       "      <td>test0.h5py</td>\n",
       "      <td>dset0</td>\n",
       "      <td>4</td>\n",
       "    </tr>\n",
       "    <tr>\n",
       "      <th>1</th>\n",
       "      <td>test0.h5py</td>\n",
       "      <td>dset1</td>\n",
       "      <td>4</td>\n",
       "    </tr>\n",
       "    <tr>\n",
       "      <th>2</th>\n",
       "      <td>test0.h5py</td>\n",
       "      <td>dset2</td>\n",
       "      <td>4</td>\n",
       "    </tr>\n",
       "    <tr>\n",
       "      <th>3</th>\n",
       "      <td>test0.h5py</td>\n",
       "      <td>dset3</td>\n",
       "      <td>4</td>\n",
       "    </tr>\n",
       "    <tr>\n",
       "      <th>4</th>\n",
       "      <td>test0.h5py</td>\n",
       "      <td>dset4</td>\n",
       "      <td>4</td>\n",
       "    </tr>\n",
       "  </tbody>\n",
       "</table>\n",
       "</div>"
      ],
      "text/plain": [
       "           Fn     Ds  Label\n",
       "0  test0.h5py  dset0      4\n",
       "1  test0.h5py  dset1      4\n",
       "2  test0.h5py  dset2      4\n",
       "3  test0.h5py  dset3      4\n",
       "4  test0.h5py  dset4      4"
      ]
     },
     "execution_count": 24,
     "metadata": {},
     "output_type": "execute_result"
    }
   ],
   "source": [
    "fns = []\n",
    "dsns = []\n",
    "for i in range(10):\n",
    "    for j in range(10):\n",
    "        fns.append('test' + str(i) + '.h5py')\n",
    "        dsns.append('dset' + str(j))\n",
    "labels = [4]*50 + [5]*50\n",
    "detailed_df = pd.DataFrame({'Fn':fns, 'Ds':dsns, 'Label':labels})\n",
    "detailed_df.head()"
   ]
  },
  {
   "cell_type": "code",
   "execution_count": 26,
   "metadata": {},
   "outputs": [
    {
     "data": {
      "text/plain": [
       "H5pyList (100 items)\n",
       "Image (3, 3, 3),Image (3, 3, 3),Image (3, 3, 3),Image (3, 3, 3),Image (3, 3, 3)\n",
       "Path: h5py"
      ]
     },
     "execution_count": 26,
     "metadata": {},
     "output_type": "execute_result"
    }
   ],
   "source": [
    "detailed_df_il = H5pyList.from_df(detailed_df, path='./h5py', cols=0, dsn_col=1)\n",
    "detailed_df_il"
   ]
  },
  {
   "cell_type": "markdown",
   "metadata": {},
   "source": [
    "Example of a databunch"
   ]
  },
  {
   "cell_type": "code",
   "execution_count": 30,
   "metadata": {},
   "outputs": [
    {
     "data": {
      "text/plain": [
       "ImageDataBunch;\n",
       "\n",
       "Train: LabelList (80 items)\n",
       "x: H5pyList\n",
       "Image (3, 3, 3),Image (3, 3, 3),Image (3, 3, 3),Image (3, 3, 3),Image (3, 3, 3)\n",
       "y: CategoryList\n",
       "4,4,4,4,4\n",
       "Path: h5py;\n",
       "\n",
       "Valid: LabelList (20 items)\n",
       "x: H5pyList\n",
       "Image (3, 3, 3),Image (3, 3, 3),Image (3, 3, 3),Image (3, 3, 3),Image (3, 3, 3)\n",
       "y: CategoryList\n",
       "5,5,5,4,4\n",
       "Path: h5py;\n",
       "\n",
       "Test: None"
      ]
     },
     "execution_count": 30,
     "metadata": {},
     "output_type": "execute_result"
    }
   ],
   "source": [
    "data = (detailed_df_il.split_by_rand_pct(.2, seed=42)\n",
    "          .label_from_df(cols=2)).databunch(bs=5)\n",
    "data"
   ]
  },
  {
   "cell_type": "code",
   "execution_count": 29,
   "metadata": {},
   "outputs": [
    {
     "data": {
      "image/png": "[encoded data removed]",
      "text/plain": [
       "<Figure size 864x864 with 9 Axes>"
      ]
     },
     "metadata": {
      "needs_background": "light"
     },
     "output_type": "display_data"
    }
   ],
   "source": [
    "data.show_batch()"
   ]
  }
 ],
 "metadata": {
  "kernelspec": {
   "display_name": "Python 3",
   "language": "python",
   "name": "python3"
  },
  "language_info": {
   "codemirror_mode": {
    "name": "ipython",
    "version": 3
   },
   "file_extension": ".py",
   "mimetype": "text/x-python",
   "name": "python",
   "nbconvert_exporter": "python",
   "pygments_lexer": "ipython3",
   "version": "3.7.3"
  }
 },
 "nbformat": 4,
 "nbformat_minor": 2
}
