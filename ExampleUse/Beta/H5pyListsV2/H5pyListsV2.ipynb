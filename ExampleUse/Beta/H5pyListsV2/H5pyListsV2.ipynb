{
 "cells": [
  {
   "cell_type": "code",
   "execution_count": 1,
   "metadata": {},
   "outputs": [],
   "source": [
    "from fastai.vision import *\n",
    "import h5py"
   ]
  },
  {
   "cell_type": "code",
   "execution_count": 2,
   "metadata": {},
   "outputs": [],
   "source": [
    "class H5pyList(ImageList):\n",
    "    def __init__(self, *args, file=None, key=None, **kwargs):\n",
    "        super().__init__(*args, **kwargs)\n",
    "        if file == None or key == None:\n",
    "            raise ValueError('file and key must be defined')\n",
    "        self.file,self.key = file,key\n",
    "    \n",
    "    def get(self, i):\n",
    "        return Image(tensor(self.file[self.key][self.items[i]]))\n",
    "     \n",
    "    def new(self, items, processor=None, **kwargs):\n",
    "        res = super().new(items,processor, file=self.file, key=self.key, **kwargs)\n",
    "        return res\n",
    "    \n",
    "    def label_from_key(self, key, **kwargs):\n",
    "        return self._label_from_list([self.file[key][i] for i in self.items], **kwargs)\n",
    "     \n",
    "    @classmethod\n",
    "    def from_file(cls, fpath, key=None, idxs=None, **kwargs):\n",
    "        fpath = Path(fpath)\n",
    "        file = h5py.File(fpath.name, 'r')\n",
    "        key = ifnone(key, list(file.keys())[0])\n",
    "        items = ifnone(idxs, list(range(len(file[key]))))\n",
    "        return cls(items, path=fpath.parent, file=file, key=key, **kwargs)\n",
    "        \n",
    "        "
   ]
  },
  {
   "cell_type": "code",
   "execution_count": 3,
   "metadata": {},
   "outputs": [
    {
     "data": {
      "image/png": "[encoded data removed]",
      "text/plain": [
       "<Figure size 576x576 with 4 Axes>"
      ]
     },
     "metadata": {
      "needs_background": "light"
     },
     "output_type": "display_data"
    }
   ],
   "source": [
    "il = (H5pyList.from_file('test.h5py').split_by_rand_pct(.2)\n",
    "      .label_from_key('labels')).databunch(bs=2)\n",
    "il.show_batch()"
   ]
  },
  {
   "cell_type": "code",
   "execution_count": 4,
   "metadata": {},
   "outputs": [],
   "source": [
    "learner = cnn_learner(il, models.resnet34)"
   ]
  },
  {
   "cell_type": "code",
   "execution_count": 20,
   "metadata": {},
   "outputs": [
    {
     "data": {
      "text/html": [
       "<table border=\"1\" class=\"dataframe\">\n",
       "  <thead>\n",
       "    <tr style=\"text-align: left;\">\n",
       "      <th>epoch</th>\n",
       "      <th>train_loss</th>\n",
       "      <th>valid_loss</th>\n",
       "      <th>time</th>\n",
       "    </tr>\n",
       "  </thead>\n",
       "  <tbody>\n",
       "    <tr>\n",
       "      <td>0</td>\n",
       "      <td>0.000000</td>\n",
       "      <td>0.000000</td>\n",
       "      <td>00:00</td>\n",
       "    </tr>\n",
       "    <tr>\n",
       "      <td>1</td>\n",
       "      <td>0.000000</td>\n",
       "      <td>0.000000</td>\n",
       "      <td>00:00</td>\n",
       "    </tr>\n",
       "    <tr>\n",
       "      <td>2</td>\n",
       "      <td>0.000000</td>\n",
       "      <td>0.000000</td>\n",
       "      <td>00:00</td>\n",
       "    </tr>\n",
       "  </tbody>\n",
       "</table>"
      ],
      "text/plain": [
       "<IPython.core.display.HTML object>"
      ]
     },
     "metadata": {},
     "output_type": "display_data"
    }
   ],
   "source": [
    "learner.fit_one_cycle(3)"
   ]
  },
  {
   "cell_type": "code",
   "execution_count": 22,
   "metadata": {},
   "outputs": [
    {
     "data": {
      "text/plain": [
       "[tensor([[1.],\n",
       "         [1.],\n",
       "         [1.],\n",
       "         [1.],\n",
       "         [1.],\n",
       "         [1.],\n",
       "         [1.],\n",
       "         [1.]]), tensor([0, 0, 0, 0, 0, 0, 0, 0])]"
      ]
     },
     "execution_count": 22,
     "metadata": {},
     "output_type": "execute_result"
    }
   ],
   "source": [
    "learner.get_preds(ds_type=DatasetType.Train)"
   ]
  },
  {
   "cell_type": "code",
   "execution_count": 12,
   "metadata": {},
   "outputs": [],
   "source": [
    "data = [[[0,255,0],[255,0,255],[0,255,0]],\n",
    "        [[0,255,0],[255,0,255],[0,255,0]],\n",
    "        [[0,255,0],[255,0,255],[0,255,0]]]\n"
   ]
  },
  {
   "cell_type": "code",
   "execution_count": 17,
   "metadata": {},
   "outputs": [],
   "source": [
    "with h5py.File('test.h5py') as f:\n",
    "    f.create_dataset('images', dtype='float32', data= np.array([data] * 10))\n",
    "    f.create_dataset('labels', data=[0] * 10)"
   ]
  },
  {
   "cell_type": "code",
   "execution_count": 23,
   "metadata": {},
   "outputs": [],
   "source": [
    "??ImageList"
   ]
  },
  {
   "cell_type": "code",
   "execution_count": null,
   "metadata": {},
   "outputs": [],
   "source": [
    "def test(hello=0, *myargs, **kwargs):\n",
    "    import pdb;pdb.set_trace()\n",
    "    20==20"
   ]
  },
  {
   "cell_type": "markdown",
   "metadata": {},
   "source": []
  }
 ],
 "metadata": {
  "kernelspec": {
   "display_name": "Python 3",
   "language": "python",
   "name": "python3"
  },
  "language_info": {
   "codemirror_mode": {
    "name": "ipython",
    "version": 3
   },
   "file_extension": ".py",
   "mimetype": "text/x-python",
   "name": "python",
   "nbconvert_exporter": "python",
   "pygments_lexer": "ipython3",
   "version": "3.7.3"
  }
 },
 "nbformat": 4,
 "nbformat_minor": 2
}
